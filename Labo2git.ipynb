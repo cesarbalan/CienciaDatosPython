{
 "cells": [
  {
   "cell_type": "markdown",
   "metadata": {},
   "source": [
    "## Hoja de Trabajo 2\n",
    "## Universidad Galileo\n",
    "#### Cesar Balan, carné 20003474\n",
    "\n",
    "\n",
    "### Parte #1 \n",
    "##### 1. Haga un programa en Python que reciba de parametro un numero de segundos y que despliegue en pantalla, las horas, minutos y segundos que representan. Por ejemplo: Si el n´umero de segundos recibidos fuera: 2743 entonces su programa debería desplegar: Horas: 0, Minutos: 45 , Segundos: 43 Si el número de segundos recibidos fuera 5871: Horas: 1, Minutos: 37 , Segundos: 51 Recuerde manejar excepciones y errores que considere necesarios."
   ]
  },
  {
   "cell_type": "code",
   "execution_count": 3,
   "metadata": {},
   "outputs": [
    {
     "name": "stdin",
     "output_type": "stream",
     "text": [
      "Ingrese un numero: 5\n"
     ]
    },
    {
     "name": "stdout",
     "output_type": "stream",
     "text": [
      "Horas: 0, Minutos: 0, Segundos:5\n"
     ]
    }
   ],
   "source": [
    "try:\n",
    "    numero1=int(round(float(input(\"Ingrese un numero:\"))))\n",
    "    tiempo=[0,0,0]\n",
    "    tiempo[0]= int((numero1 / 3600))\n",
    "    tiempo[1]=(int)((numero1 - tiempo[0] * 3600) / 60)\n",
    "    tiempo[2]=numero1 - (tiempo[0] * 3600 + tiempo[1] * 60)\n",
    "    print ('Horas: '+str(tiempo[0])+', Minutos: '+str(tiempo[1])+', Segundos:'+str(tiempo[2]))\n",
    "except(ValueError)    :\n",
    "    print(\"Datos no validos, ingresar datos tipo número\")"
   ]
  },
  {
   "cell_type": "markdown",
   "metadata": {},
   "source": [
    "#### 2. Haga una función en Python que dado un número entre 1 y 20. Y un carácter cualquiera despliegue cuatro patrones triangulares. Por ejemplo si el usuario ingresara el número 4 y el sımbolo * el programa deber´a desplegar lo siguiente:"
   ]
  },
  {
   "cell_type": "code",
   "execution_count": 5,
   "metadata": {},
   "outputs": [
    {
     "name": "stdin",
     "output_type": "stream",
     "text": [
      "Ingrese un numero: 6\n"
     ]
    },
    {
     "name": "stdout",
     "output_type": "stream",
     "text": [
      "xxxxxx   xxxxxx          xxxxxx        x\n",
      "xxxxx     xxxxx          xxxxx        xx\n",
      "xxxx       xxxx          xxxx        xxx\n",
      "xxx         xxx          xxx        xxxx\n",
      "xx           xx          xx        xxxxx\n",
      "x             x          x        xxxxxx\n"
     ]
    }
   ],
   "source": [
    "try:\n",
    "    def piramides(numero):\n",
    "        for x  in range(numero):\n",
    "            print('x'*(numero-x) +'   ' +' '*(x*2) +'x'*(numero-x)+'          ' +   'x'*(numero-x) +'   '+' '*(numero-1) +'x'*(x+1))\n",
    "     \n",
    "    piramides( int(round(float(input(\"Ingrese un numero:\")))))\n",
    "except(ValueError)    :\n",
    "    print(\"Datos no validos, ingresar datos tipo número\")"
   ]
  },
  {
   "cell_type": "markdown",
   "metadata": {},
   "source": [
    "#### 3. Haga un programa en Python que la fecha de nacimiento de una persona (puede ingresar por separado cada valor, es decir pedir primero día, luego mes y luego año despliegue la edad de la persona en años, meses y días. Su resultado puede ser aproximado.\n"
   ]
  },
  {
   "cell_type": "code",
   "execution_count": 8,
   "metadata": {},
   "outputs": [
    {
     "name": "stdin",
     "output_type": "stream",
     "text": [
      "Ingrese el dia de su nacimiento 27\n",
      "Ingrese el mes de su nacimiento 27\n",
      "Ingrese el año de su nacimiento 1981\n"
     ]
    },
    {
     "name": "stdout",
     "output_type": "stream",
     "text": [
      "Datos no validos, ingresar datos tipo número\n"
     ]
    }
   ],
   "source": [
    "from datetime import datetime\n",
    "from dateutil.relativedelta import relativedelta\n",
    "try:    \n",
    "    dia =int(input(\"Ingrese el dia de su nacimiento\"))\n",
    "    mes =int(input(\"Ingrese el mes de su nacimiento\"))\n",
    "    anio =int(input(\"Ingrese el año de su nacimiento\"))\n",
    "    anios = relativedelta(datetime.now(), datetime(anio, mes, dia))\n",
    "    print(f\"{anios.years} años, {anios.months} meses,  {anios.days} días\")\n",
    "except(ValueError)    :\n",
    "    print(\"Datos no validos, ingresar datos tipo número\")"
   ]
  },
  {
   "cell_type": "markdown",
   "metadata": {},
   "source": [
    "### Parte #2 - (Estructuras de Datos): Resuelva los siguientes ejercicios sobre estructuras de datos en Python."
   ]
  },
  {
   "cell_type": "markdown",
   "metadata": {},
   "source": [
    "#### 1. Escriba una función en Python que dada una tupla de elementos (numeros o letras) esta se convierta a un string. Tomar nota del siguiente ejemplo:\n",
    "Si la entrada fuera: (10, 20, 40, 5, 70)\n",
    "La salida debería ser: 102040570\n"
   ]
  },
  {
   "cell_type": "code",
   "execution_count": 13,
   "metadata": {},
   "outputs": [
    {
     "name": "stdout",
     "output_type": "stream",
     "text": [
      "1)Seguir ingresando\n",
      "2)salir\n"
     ]
    },
    {
     "name": "stdin",
     "output_type": "stream",
     "text": [
      "Ingrese la operación :  2\n"
     ]
    }
   ],
   "source": [
    "def cadena(numero):\n",
    "    salida =''\n",
    "    tupla=numero.split(',')\n",
    "    \n",
    "    for a in range(len(tupla)):\n",
    "        salida=salida+str(tupla[a])\n",
    "    print(\"El resultado es : \"+ salida)\n",
    "    \n",
    "try:\n",
    "    bandera=True\n",
    "    resultado=0\n",
    "    while(bandera != False):\n",
    "        print(\"1)Seguir ingresando\")\n",
    "        print(\"2)salir\")\n",
    "        \n",
    "        operacion=int(input(\"Ingrese la operación : \"))       \n",
    "    \n",
    "    \n",
    "            \n",
    "        if (operacion==1):\n",
    "            cadena(input(\"Ingrese la cadena de valores : \"))    \n",
    "        elif(operacion==2):\n",
    "             bandera=False\n",
    "        else:\n",
    "            print(\"ingrese un valor del menu\")\n",
    "\n",
    "except(ValueError)    :\n",
    "    print(\"Datos no validos, ingresar datos valido\")\n"
   ]
  },
  {
   "cell_type": "markdown",
   "metadata": {},
   "source": [
    "#### 2. Cree un programa en Python que dada una lista de tuplas, elimine las tuplas que están vacías.Tomar nota del siguiente ejemplo:\n"
   ]
  },
  {
   "cell_type": "code",
   "execution_count": 14,
   "metadata": {},
   "outputs": [
    {
     "name": "stdout",
     "output_type": "stream",
     "text": [
      "[('X',), ('a', 'b'), ('a', 'b', 'c'), 'd']\n"
     ]
    }
   ],
   "source": [
    "Entrada= [(), (), ('X',), ('a', 'b'), ('a', 'b', 'c'), ('d')]\n",
    "#del Entrada[0]\n",
    "",
    "print(Entrada)\n"
   ]
  },
  {
   "cell_type": "code",
   "execution_count": null,
   "metadata": {},
   "outputs": [],
   "source": []
  }
 ],
 "metadata": {
  "kernelspec": {
   "display_name": "Python 3",
   "language": "python",
   "name": "python3"
  },
  "language_info": {
   "codemirror_mode": {
    "name": "ipython",
    "version": 3
   },
   "file_extension": ".py",
   "mimetype": "text/x-python",
   "name": "python",
   "nbconvert_exporter": "python",
   "pygments_lexer": "ipython3",
   "version": "3.8.5"
  }
 },
 "nbformat": 4,
 "nbformat_minor": 4
}
