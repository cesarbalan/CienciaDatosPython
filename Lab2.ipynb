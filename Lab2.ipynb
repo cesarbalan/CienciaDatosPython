{
 "cells": [
  {
   "cell_type": "markdown",
   "metadata": {},
   "source": [
    "## Laboratorio # 2 - Jupyter Notebooks, Markdown y Git\n",
    "Cesar balan   \n",
    "Carné 20003474  \n"
   ]
  },
  {
   "cell_type": "markdown",
   "metadata": {},
   "source": [
    "### Git  \n",
    "Es un herramienta util de colaboración la cuál también puede usarse de manera personal para documentar cambios en el código de un proyecto que necesitemos controlar, si bien la interfaz es tipo terminal no tiene complicaciones al entender la logica del software.  \n",
    "  \n",
    "  \n",
    "Trabaja de la siguiente manera: \n",
    "EL software necesita ubicarse en un area de trabajo, en donde tendremos nuestros archivos al momento de ubicar el area de trabajo, Git mapea todo el directorio para determinar en tiempo real el estado de todos los archivos asi dar al usuario información sobre los mismos.  \n",
    "  \n",
    "    \n",
    "Luego cada cambio que necesitemos \"Guardar\", se le denominara fotos eso se aplica por medio del comando Commit muy parecido al de las bases de datos, este comando dispara una editor de texto el cual debe llenarse con el comentario, que es una breve descripción de los cambios, al guardar el editor se genera una cadena hash que idenfificara a la foto.\n",
    "\n",
    "Puede ser uso de varias personas, por medio de la plataforma GitHub, la plataforma es mas accesible que la terminal, debido a que muestra todos los cambios y opciones de manera grafica.\n",
    "\n",
    " \n",
    "\n",
    "\n",
    "  "
   ]
  },
  {
   "cell_type": "markdown",
   "metadata": {},
   "source": [
    "# Uso\n",
    "Consta de pasos puntuales o comandos que deben ejectuarse segun lo que se necesite por ejemplo:\n",
    "\n",
    "1. Crear un proyecto\n",
    "2. Crear areas de trabajo\n",
    "3. Verificar estado del area de trabajo\n",
    "4. Cargar archivos nuevos al area de trabajo\n",
    "5. Clonar archivos\n",
    "6. Aplicar Cambios\n",
    "7. Elminar cambios\n",
    "8. Ver el codigo que cambio\n",
    "\n",
    "\n",
    "Algunos de esos comandos pueden afectar directamente el archivo que estemos trabajando como por ejemplo el commit, el cual de no aplicarse \n",
    "descarta pasos anteriores y dejaria en el historia solo los pagos guardados.\n",
    "\n",
    "\n"
   ]
  },
  {
   "cell_type": "markdown",
   "metadata": {},
   "source": [
    "# Practica\n",
    "\n",
    "* Se crea un proyecto en la terminal, para lo cual debemos saber la ubicación de nuestra carpeta de proyecto.\n",
    "* siver para ver si existe algún cambio.\n",
    "\n",
    "\n",
    "\n"
   ]
  },
  {
   "cell_type": "code",
   "execution_count": 43,
   "metadata": {
    "scrolled": true
   },
   "outputs": [
    {
     "name": "stdout",
     "output_type": "stream",
     "text": [
      "Microsoft Windows [Versión 10.0.18363.1379]\r\n",
      "(c) 2019 Microsoft Corporation. Todos los derechos reservados.\r\n",
      "\r\n",
      "(base) C:\\Users\\cbala\\Documents\\PostGradoGalileo\\GIT>git init\n",
      "Reinitialized existing Git repository in C:/Users/cbala/Documents/PostGradoGalileo/GIT/.git/\n",
      "\r\n",
      "(base) C:\\Users\\cbala\\Documents\\PostGradoGalileo\\GIT>git status\n",
      "On branch main\n",
      "Your branch is up to date with 'origin/main'.\n",
      "\n",
      "Untracked files:\n",
      "  (use \"git add <file>...\" to include in what will be committed)\n",
      "\t.ipynb_checkpoints/\n",
      "\tAbcde.txt\n",
      "\tLab2.ipynb\n",
      "\n",
      "nothing added to commit but untracked files present (use \"git add\" to track)\n",
      "\r\n",
      "(base) C:\\Users\\cbala\\Documents\\PostGradoGalileo\\GIT>"
     ]
    }
   ],
   "source": [
    "%%cmd\n",
    "git init\n",
    "git status"
   ]
  },
  {
   "cell_type": "markdown",
   "metadata": {},
   "source": [
    "se observa que hay dos archivos sin seguir que son:\n",
    "* Abcde.txt\n",
    "* Lab2.ipynb\n",
    "se procesderá a agregar los docuementos, para poder versionarlos.\n"
   ]
  },
  {
   "cell_type": "code",
   "execution_count": 58,
   "metadata": {},
   "outputs": [
    {
     "name": "stdout",
     "output_type": "stream",
     "text": [
      "Microsoft Windows [Versión 10.0.18363.1379]\r\n",
      "(c) 2019 Microsoft Corporation. Todos los derechos reservados.\r\n",
      "\r\n",
      "(base) C:\\Users\\cbala\\Documents\\PostGradoGalileo\\GIT>git status\n",
      "On branch main\n",
      "Your branch is ahead of 'origin/main' by 1 commit.\n",
      "  (use \"git push\" to publish your local commits)\n",
      "\n",
      "Changes to be committed:\n",
      "  (use \"git restore --staged <file>...\" to unstage)\n",
      "\tnew file:   Abcde.txt\n",
      "\tmodified:   Lab2.ipynb\n",
      "\n",
      "Untracked files:\n",
      "  (use \"git add <file>...\" to include in what will be committed)\n",
      "\t.ipynb_checkpoints/\n",
      "\n",
      "\r\n",
      "(base) C:\\Users\\cbala\\Documents\\PostGradoGalileo\\GIT>"
     ]
    }
   ],
   "source": [
    "%%cmd\n",
    "git status\n"
   ]
  },
  {
   "cell_type": "code",
   "execution_count": 57,
   "metadata": {},
   "outputs": [
    {
     "name": "stdout",
     "output_type": "stream",
     "text": [
      "Microsoft Windows [Versión 10.0.18363.1379]\r\n",
      "(c) 2019 Microsoft Corporation. Todos los derechos reservados.\r\n",
      "\r\n",
      "(base) C:\\Users\\cbala\\Documents\\PostGradoGalileo\\GIT>git add Abcde.txt\n",
      "\r\n",
      "(base) C:\\Users\\cbala\\Documents\\PostGradoGalileo\\GIT>git add Lab2.ipynb\n",
      "\r\n",
      "(base) C:\\Users\\cbala\\Documents\\PostGradoGalileo\\GIT>"
     ]
    },
    {
     "name": "stderr",
     "output_type": "stream",
     "text": [
      "warning: LF will be replaced by CRLF in Lab2.ipynb.\n",
      "The file will have its original line endings in your working directory\n"
     ]
    }
   ],
   "source": [
    "%%cmd\n",
    "git add Abcde.txt\n",
    "git add Lab2.ipynb"
   ]
  },
  {
   "cell_type": "code",
   "execution_count": null,
   "metadata": {},
   "outputs": [],
   "source": [
    "Se observa que ya tenemos ambos documentos listos en el area de trabajo, pero aun no estan cargados en la herramienta.  \n",
    "Al aplicar el commando commit ya tenemos listo nuestros para versionarlos.\n",
    "\n"
   ]
  },
  {
   "cell_type": "code",
   "execution_count": 54,
   "metadata": {},
   "outputs": [
    {
     "name": "stdout",
     "output_type": "stream",
     "text": [
      "Microsoft Windows [Versión 10.0.18363.1379]\r\n",
      "(c) 2019 Microsoft Corporation. Todos los derechos reservados.\r\n",
      "\r\n",
      "(base) C:\\Users\\cbala\\Documents\\PostGradoGalileo\\GIT>git commit\n",
      "On branch main\n",
      "Your branch is ahead of 'origin/main' by 1 commit.\n",
      "  (use \"git push\" to publish your local commits)\n",
      "\n",
      "Changes not staged for commit:\n",
      "  (use \"git add <file>...\" to update what will be committed)\n",
      "  (use \"git restore <file>...\" to discard changes in working directory)\n",
      "\tmodified:   Lab2.ipynb\n",
      "\n",
      "Untracked files:\n",
      "  (use \"git add <file>...\" to include in what will be committed)\n",
      "\t.ipynb_checkpoints/\n",
      "\tAbcde.txt\n",
      "\n",
      "no changes added to commit (use \"git add\" and/or \"git commit -a\")\n",
      "\r\n",
      "(base) C:\\Users\\cbala\\Documents\\PostGradoGalileo\\GIT>"
     ]
    }
   ],
   "source": [
    "%%cmd\n",
    "git commit"
   ]
  },
  {
   "cell_type": "code",
   "execution_count": 55,
   "metadata": {},
   "outputs": [
    {
     "name": "stdout",
     "output_type": "stream",
     "text": [
      "Microsoft Windows [Versión 10.0.18363.1379]\r\n",
      "(c) 2019 Microsoft Corporation. Todos los derechos reservados.\r\n",
      "\r\n",
      "(base) C:\\Users\\cbala\\Documents\\PostGradoGalileo\\GIT>git status\n",
      "On branch main\n",
      "Your branch is ahead of 'origin/main' by 1 commit.\n",
      "  (use \"git push\" to publish your local commits)\n",
      "\n",
      "Changes not staged for commit:\n",
      "  (use \"git add <file>...\" to update what will be committed)\n",
      "  (use \"git restore <file>...\" to discard changes in working directory)\n",
      "\tmodified:   Lab2.ipynb\n",
      "\n",
      "Untracked files:\n",
      "  (use \"git add <file>...\" to include in what will be committed)\n",
      "\t.ipynb_checkpoints/\n",
      "\tAbcde.txt\n",
      "\n",
      "no changes added to commit (use \"git add\" and/or \"git commit -a\")\n",
      "\r\n",
      "(base) C:\\Users\\cbala\\Documents\\PostGradoGalileo\\GIT>"
     ]
    }
   ],
   "source": [
    "%%cmd\n",
    "git status"
   ]
  },
  {
   "cell_type": "markdown",
   "metadata": {},
   "source": [
    "## Conclusiones\n",
    "\n",
    "Una buena herramienta que permite una gestión transparente sobre cambios o versiones de codigo de un software, sin tener varias carpetas desordenadas con nombres distintos.\n",
    "\n",
    "Hace público cualquier código lo cual ayuda a que una comunidad pueda mejorar un producto (software), dependiendo el fin puede usarse de manera privada tambien.  \n",
    "\n",
    "Evita perdidas de codigo o borrados accidentales, debido a que tiene respaldo en la nube de Git.\n",
    "\n",
    "\n",
    "\n"
   ]
  }
 ],
 "metadata": {
  "kernelspec": {
   "display_name": "Python 3",
   "language": "python",
   "name": "python3"
  },
  "language_info": {
   "codemirror_mode": {
    "name": "ipython",
    "version": 3
   },
   "file_extension": ".py",
   "mimetype": "text/x-python",
   "name": "python",
   "nbconvert_exporter": "python",
   "pygments_lexer": "ipython3",
   "version": "3.8.5"
  }
 },
 "nbformat": 4,
 "nbformat_minor": 4
}
